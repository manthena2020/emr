{
 "cells": [
  {
   "cell_type": "code",
   "execution_count": null,
   "metadata": {},
   "outputs": [],
   "source": [
    "import boto3"
   ]
  },
  {
   "cell_type": "code",
   "execution_count": null,
   "metadata": {},
   "outputs": [],
   "source": [
    "emr_client = boto3.client('emr')"
   ]
  },
  {
   "cell_type": "code",
   "execution_count": null,
   "metadata": {},
   "outputs": [],
   "source": [
    "emr_client.run_job_flow?"
   ]
  },
  {
   "cell_type": "code",
   "execution_count": null,
   "metadata": {},
   "outputs": [],
   "source": [
    "emr_client.run_job_flow(\n",
    "    Name='AI Cluster',\n",
    "    LogUri='s3n://aws-logs-269066542444-us-east-1/elasticmapreduce/',\n",
    "    ReleaseLabel='emr-6.6.0',\n",
    "    Instances={\n",
    "        'KeepJobFlowAliveWhenNoSteps': True,\n",
    "        'InstanceGroups': [\n",
    "            {\n",
    "                \"InstanceCount\": 1,\n",
    "                \"EbsConfiguration\": {\n",
    "                    \"EbsBlockDeviceConfigs\": [\n",
    "                        {\n",
    "                            \"VolumeSpecification\": {\n",
    "                                \"SizeInGB\": 32,\n",
    "                                \"VolumeType\": \"gp2\"\n",
    "                            },\n",
    "                            \"VolumesPerInstance\": 2\n",
    "                        }\n",
    "                    ]\n",
    "                },\n",
    "                \"InstanceRole\": \"MASTER\",\n",
    "                \"InstanceType\": \"m5.xlarge\",\n",
    "                \"Name\": \"Master - 1\"\n",
    "            },\n",
    "            {\n",
    "                \"InstanceCount\": 2,\n",
    "                \"EbsConfiguration\": {\n",
    "                    \"EbsBlockDeviceConfigs\": [\n",
    "                        {\n",
    "                            \"VolumeSpecification\": {\n",
    "                                \"SizeInGB\": 32,\n",
    "                                \"VolumeType\": \"gp2\"\n",
    "                            },\n",
    "                            \"VolumesPerInstance\": 2\n",
    "                        }\n",
    "                    ]\n",
    "                },\n",
    "                \"InstanceRole\": \"CORE\",\n",
    "                \"InstanceType\": \"m5.xlarge\",\n",
    "                \"Name\": \"Core - 2\"\n",
    "            }\n",
    "        ]\n",
    "    },\n",
    "    Applications=[\n",
    "        {\n",
    "            'Name': 'Hadoop'\n",
    "        },\n",
    "        {\n",
    "            'Name': 'Spark'\n",
    "        }\n",
    "    ],\n",
    "    Configurations=[\n",
    "        {\n",
    "            \"Classification\": \"spark-hive-site\",\n",
    "            \"Properties\": {\n",
    "                \"hive.metastore.client.factory.class\": \"com.amazonaws.glue.catalog.metastore.AWSGlueDataCatalogHiveClientFactory\"\n",
    "            }\n",
    "        }\n",
    "    ],\n",
    "    ServiceRole='EMR_DefaultRole',\n",
    "    JobFlowRole='EMR_EC2_DefaultRole',\n",
    "    AutoScalingRole='EMR_AutoScaling_DefaultRole',\n",
    "    ScaleDownBehavior='TERMINATE_AT_TASK_COMPLETION',\n",
    "    EbsRootVolumeSize=10,\n",
    "    AutoTerminationPolicy={\n",
    "        \"IdleTimeout\": 3600\n",
    "    }\n",
    ")\n"
   ]
  },
  {
   "cell_type": "code",
   "execution_count": null,
   "metadata": {},
   "outputs": [],
   "source": []
  }
 ],
 "metadata": {
  "kernelspec": {
   "display_name": "Python 3.9.12 ('me-venv': venv)",
   "language": "python",
   "name": "python3"
  },
  "language_info": {
   "codemirror_mode": {
    "name": "ipython",
    "version": 3
   },
   "file_extension": ".py",
   "mimetype": "text/x-python",
   "name": "python",
   "nbconvert_exporter": "python",
   "pygments_lexer": "ipython3",
   "version": "3.9.12"
  },
  "orig_nbformat": 4,
  "vscode": {
   "interpreter": {
    "hash": "486bfb5c5bc2d80b6bdfdd884fe8070e0b9ef1b20f462b79720291b7c17c500c"
   }
  }
 },
 "nbformat": 4,
 "nbformat_minor": 2
}
