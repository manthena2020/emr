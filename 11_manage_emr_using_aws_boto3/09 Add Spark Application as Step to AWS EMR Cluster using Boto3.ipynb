{
 "cells": [
  {
   "cell_type": "code",
   "execution_count": null,
   "metadata": {},
   "outputs": [],
   "source": [
    "import boto3"
   ]
  },
  {
   "cell_type": "code",
   "execution_count": null,
   "metadata": {},
   "outputs": [],
   "source": [
    "emr_client = boto3.client('emr')"
   ]
  },
  {
   "cell_type": "code",
   "execution_count": null,
   "metadata": {},
   "outputs": [],
   "source": [
    "emr_client.add_job_flow_steps?"
   ]
  },
  {
   "cell_type": "code",
   "execution_count": null,
   "metadata": {},
   "outputs": [],
   "source": [
    "emr_client.list_clusters(ClusterStates=['RUNNING', 'WAITING'])"
   ]
  },
  {
   "cell_type": "code",
   "execution_count": null,
   "metadata": {},
   "outputs": [],
   "source": [
    "emr_client.add_job_flow_steps(\n",
    "    JobFlowId='j-3J9Z0ZS4D7JU7',\n",
    "    Steps=[\n",
    "        {\n",
    "            'Name': 'GHActivity Processor',\n",
    "            'HadoopJarStep': {\n",
    "                'Jar': 'command-runner.jar',\n",
    "                'Args': ['spark-submit',\n",
    "                         '--deploy-mode',\n",
    "                         'cluster',\n",
    "                         '--conf',\n",
    "                         'spark.yarn.appMasterEnv.ENVIRON=PROD',\n",
    "                         '--conf',\n",
    "                         'spark.yarn.appMasterEnv.SRC_DIR=s3://aigithub/landing/ghactivity',\n",
    "                         '--conf',\n",
    "                         'spark.yarn.appMasterEnv.SRC_FILE_FORMAT=json',\n",
    "                         '--conf',\n",
    "                         'spark.yarn.appMasterEnv.TGT_DIR=s3://aigithub/emrraw/ghactivity',\n",
    "                         '--conf',\n",
    "                         'spark.yarn.appMasterEnv.TGT_FILE_FORMAT=parquet',\n",
    "                         '--conf',\n",
    "                         'spark.yarn.appMasterEnv.SRC_FILE_PATTERN=2021-01-13',\n",
    "                         '--py-files',\n",
    "                         's3://aigithub/app/itv-ghactivity.zip',\n",
    "                         's3://aigithub/app/app.py']\n",
    "            }\n",
    "        }\n",
    "    ]\n",
    ")\n"
   ]
  },
  {
   "cell_type": "code",
   "execution_count": null,
   "metadata": {},
   "outputs": [],
   "source": []
  }
 ],
 "metadata": {
  "kernelspec": {
   "display_name": "Python 3.9.12 ('me-venv': venv)",
   "language": "python",
   "name": "python3"
  },
  "language_info": {
   "codemirror_mode": {
    "name": "ipython",
    "version": 3
   },
   "file_extension": ".py",
   "mimetype": "text/x-python",
   "name": "python",
   "nbconvert_exporter": "python",
   "pygments_lexer": "ipython3",
   "version": "3.9.12"
  },
  "orig_nbformat": 4,
  "vscode": {
   "interpreter": {
    "hash": "486bfb5c5bc2d80b6bdfdd884fe8070e0b9ef1b20f462b79720291b7c17c500c"
   }
  }
 },
 "nbformat": 4,
 "nbformat_minor": 2
}
